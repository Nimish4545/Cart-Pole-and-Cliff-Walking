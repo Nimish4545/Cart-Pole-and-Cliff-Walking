{
 "cells": [
  {
   "cell_type": "code",
   "execution_count": 1,
   "id": "4fc0460e",
   "metadata": {},
   "outputs": [
    {
     "name": "stdout",
     "output_type": "stream",
     "text": [
      "Requirement already satisfied: tensorflow in e:\\bits pilani - pilani 2021\\bits pilani sem 1\\anaconda (python)\\lib\\site-packages (2.12.0)\n",
      "Requirement already satisfied: tensorflow-intel==2.12.0 in e:\\bits pilani - pilani 2021\\bits pilani sem 1\\anaconda (python)\\lib\\site-packages (from tensorflow) (2.12.0)\n",
      "Requirement already satisfied: packaging in e:\\bits pilani - pilani 2021\\bits pilani sem 1\\anaconda (python)\\lib\\site-packages (from tensorflow-intel==2.12.0->tensorflow) (21.0)\n",
      "Requirement already satisfied: grpcio<2.0,>=1.24.3 in e:\\bits pilani - pilani 2021\\bits pilani sem 1\\anaconda (python)\\lib\\site-packages (from tensorflow-intel==2.12.0->tensorflow) (1.56.0)\n",
      "Requirement already satisfied: absl-py>=1.0.0 in e:\\bits pilani - pilani 2021\\bits pilani sem 1\\anaconda (python)\\lib\\site-packages (from tensorflow-intel==2.12.0->tensorflow) (1.4.0)\n",
      "Requirement already satisfied: google-pasta>=0.1.1 in e:\\bits pilani - pilani 2021\\bits pilani sem 1\\anaconda (python)\\lib\\site-packages (from tensorflow-intel==2.12.0->tensorflow) (0.2.0)\n",
      "Requirement already satisfied: tensorboard<2.13,>=2.12 in e:\\bits pilani - pilani 2021\\bits pilani sem 1\\anaconda (python)\\lib\\site-packages (from tensorflow-intel==2.12.0->tensorflow) (2.12.3)\n",
      "Requirement already satisfied: tensorflow-estimator<2.13,>=2.12.0 in e:\\bits pilani - pilani 2021\\bits pilani sem 1\\anaconda (python)\\lib\\site-packages (from tensorflow-intel==2.12.0->tensorflow) (2.12.0)\n",
      "Requirement already satisfied: flatbuffers>=2.0 in e:\\bits pilani - pilani 2021\\bits pilani sem 1\\anaconda (python)\\lib\\site-packages (from tensorflow-intel==2.12.0->tensorflow) (23.5.26)\n",
      "Requirement already satisfied: wrapt<1.15,>=1.11.0 in e:\\bits pilani - pilani 2021\\bits pilani sem 1\\anaconda (python)\\lib\\site-packages (from tensorflow-intel==2.12.0->tensorflow) (1.12.1)\n",
      "Requirement already satisfied: setuptools in e:\\bits pilani - pilani 2021\\bits pilani sem 1\\anaconda (python)\\lib\\site-packages (from tensorflow-intel==2.12.0->tensorflow) (58.0.4)\n",
      "Requirement already satisfied: tensorflow-io-gcs-filesystem>=0.23.1 in e:\\bits pilani - pilani 2021\\bits pilani sem 1\\anaconda (python)\\lib\\site-packages (from tensorflow-intel==2.12.0->tensorflow) (0.31.0)\n",
      "Requirement already satisfied: gast<=0.4.0,>=0.2.1 in e:\\bits pilani - pilani 2021\\bits pilani sem 1\\anaconda (python)\\lib\\site-packages (from tensorflow-intel==2.12.0->tensorflow) (0.4.0)\n",
      "Requirement already satisfied: six>=1.12.0 in e:\\bits pilani - pilani 2021\\bits pilani sem 1\\anaconda (python)\\lib\\site-packages (from tensorflow-intel==2.12.0->tensorflow) (1.16.0)\n",
      "Requirement already satisfied: jax>=0.3.15 in e:\\bits pilani - pilani 2021\\bits pilani sem 1\\anaconda (python)\\lib\\site-packages (from tensorflow-intel==2.12.0->tensorflow) (0.4.13)\n",
      "Requirement already satisfied: opt-einsum>=2.3.2 in e:\\bits pilani - pilani 2021\\bits pilani sem 1\\anaconda (python)\\lib\\site-packages (from tensorflow-intel==2.12.0->tensorflow) (3.3.0)\n",
      "Requirement already satisfied: astunparse>=1.6.0 in e:\\bits pilani - pilani 2021\\bits pilani sem 1\\anaconda (python)\\lib\\site-packages (from tensorflow-intel==2.12.0->tensorflow) (1.6.3)\n",
      "Requirement already satisfied: h5py>=2.9.0 in e:\\bits pilani - pilani 2021\\bits pilani sem 1\\anaconda (python)\\lib\\site-packages (from tensorflow-intel==2.12.0->tensorflow) (3.2.1)\n",
      "Requirement already satisfied: libclang>=13.0.0 in e:\\bits pilani - pilani 2021\\bits pilani sem 1\\anaconda (python)\\lib\\site-packages (from tensorflow-intel==2.12.0->tensorflow) (16.0.0)\n",
      "Requirement already satisfied: numpy<1.24,>=1.22 in e:\\bits pilani - pilani 2021\\bits pilani sem 1\\anaconda (python)\\lib\\site-packages (from tensorflow-intel==2.12.0->tensorflow) (1.22.4)\n",
      "Requirement already satisfied: termcolor>=1.1.0 in e:\\bits pilani - pilani 2021\\bits pilani sem 1\\anaconda (python)\\lib\\site-packages (from tensorflow-intel==2.12.0->tensorflow) (2.3.0)\n",
      "Requirement already satisfied: protobuf!=4.21.0,!=4.21.1,!=4.21.2,!=4.21.3,!=4.21.4,!=4.21.5,<5.0.0dev,>=3.20.3 in e:\\bits pilani - pilani 2021\\bits pilani sem 1\\anaconda (python)\\lib\\site-packages (from tensorflow-intel==2.12.0->tensorflow) (4.23.3)\n",
      "Requirement already satisfied: keras<2.13,>=2.12.0 in e:\\bits pilani - pilani 2021\\bits pilani sem 1\\anaconda (python)\\lib\\site-packages (from tensorflow-intel==2.12.0->tensorflow) (2.12.0)\n",
      "Requirement already satisfied: typing-extensions>=3.6.6 in e:\\bits pilani - pilani 2021\\bits pilani sem 1\\anaconda (python)\\lib\\site-packages (from tensorflow-intel==2.12.0->tensorflow) (4.7.1)\n",
      "Requirement already satisfied: wheel<1.0,>=0.23.0 in e:\\bits pilani - pilani 2021\\bits pilani sem 1\\anaconda (python)\\lib\\site-packages (from astunparse>=1.6.0->tensorflow-intel==2.12.0->tensorflow) (0.37.0)\n",
      "Requirement already satisfied: ml-dtypes>=0.1.0 in e:\\bits pilani - pilani 2021\\bits pilani sem 1\\anaconda (python)\\lib\\site-packages (from jax>=0.3.15->tensorflow-intel==2.12.0->tensorflow) (0.2.0)\n",
      "Requirement already satisfied: importlib-metadata>=4.6 in e:\\bits pilani - pilani 2021\\bits pilani sem 1\\anaconda (python)\\lib\\site-packages (from jax>=0.3.15->tensorflow-intel==2.12.0->tensorflow) (4.8.1)\n",
      "Requirement already satisfied: scipy>=1.7 in e:\\bits pilani - pilani 2021\\bits pilani sem 1\\anaconda (python)\\lib\\site-packages (from jax>=0.3.15->tensorflow-intel==2.12.0->tensorflow) (1.7.1)\n",
      "Requirement already satisfied: zipp>=0.5 in e:\\bits pilani - pilani 2021\\bits pilani sem 1\\anaconda (python)\\lib\\site-packages (from importlib-metadata>=4.6->jax>=0.3.15->tensorflow-intel==2.12.0->tensorflow) (3.6.0)\n",
      "Requirement already satisfied: werkzeug>=1.0.1 in e:\\bits pilani - pilani 2021\\bits pilani sem 1\\anaconda (python)\\lib\\site-packages (from tensorboard<2.13,>=2.12->tensorflow-intel==2.12.0->tensorflow) (2.0.2)\n",
      "Requirement already satisfied: requests<3,>=2.21.0 in e:\\bits pilani - pilani 2021\\bits pilani sem 1\\anaconda (python)\\lib\\site-packages (from tensorboard<2.13,>=2.12->tensorflow-intel==2.12.0->tensorflow) (2.26.0)\n",
      "Requirement already satisfied: markdown>=2.6.8 in e:\\bits pilani - pilani 2021\\bits pilani sem 1\\anaconda (python)\\lib\\site-packages (from tensorboard<2.13,>=2.12->tensorflow-intel==2.12.0->tensorflow) (3.4.3)\n",
      "Requirement already satisfied: tensorboard-data-server<0.8.0,>=0.7.0 in e:\\bits pilani - pilani 2021\\bits pilani sem 1\\anaconda (python)\\lib\\site-packages (from tensorboard<2.13,>=2.12->tensorflow-intel==2.12.0->tensorflow) (0.7.1)\n",
      "Requirement already satisfied: google-auth-oauthlib<1.1,>=0.5 in e:\\bits pilani - pilani 2021\\bits pilani sem 1\\anaconda (python)\\lib\\site-packages (from tensorboard<2.13,>=2.12->tensorflow-intel==2.12.0->tensorflow) (1.0.0)\n",
      "Requirement already satisfied: google-auth<3,>=1.6.3 in e:\\bits pilani - pilani 2021\\bits pilani sem 1\\anaconda (python)\\lib\\site-packages (from tensorboard<2.13,>=2.12->tensorflow-intel==2.12.0->tensorflow) (2.21.0)\n",
      "Requirement already satisfied: rsa<5,>=3.1.4 in e:\\bits pilani - pilani 2021\\bits pilani sem 1\\anaconda (python)\\lib\\site-packages (from google-auth<3,>=1.6.3->tensorboard<2.13,>=2.12->tensorflow-intel==2.12.0->tensorflow) (4.9)\n",
      "Requirement already satisfied: cachetools<6.0,>=2.0.0 in e:\\bits pilani - pilani 2021\\bits pilani sem 1\\anaconda (python)\\lib\\site-packages (from google-auth<3,>=1.6.3->tensorboard<2.13,>=2.12->tensorflow-intel==2.12.0->tensorflow) (5.3.1)\n",
      "Requirement already satisfied: urllib3<2.0 in e:\\bits pilani - pilani 2021\\bits pilani sem 1\\anaconda (python)\\lib\\site-packages (from google-auth<3,>=1.6.3->tensorboard<2.13,>=2.12->tensorflow-intel==2.12.0->tensorflow) (1.26.7)\n",
      "Requirement already satisfied: pyasn1-modules>=0.2.1 in e:\\bits pilani - pilani 2021\\bits pilani sem 1\\anaconda (python)\\lib\\site-packages (from google-auth<3,>=1.6.3->tensorboard<2.13,>=2.12->tensorflow-intel==2.12.0->tensorflow) (0.3.0)\n",
      "Requirement already satisfied: requests-oauthlib>=0.7.0 in e:\\bits pilani - pilani 2021\\bits pilani sem 1\\anaconda (python)\\lib\\site-packages (from google-auth-oauthlib<1.1,>=0.5->tensorboard<2.13,>=2.12->tensorflow-intel==2.12.0->tensorflow) (1.3.1)\n",
      "Requirement already satisfied: pyasn1<0.6.0,>=0.4.6 in e:\\bits pilani - pilani 2021\\bits pilani sem 1\\anaconda (python)\\lib\\site-packages (from pyasn1-modules>=0.2.1->google-auth<3,>=1.6.3->tensorboard<2.13,>=2.12->tensorflow-intel==2.12.0->tensorflow) (0.5.0)\n",
      "Requirement already satisfied: certifi>=2017.4.17 in e:\\bits pilani - pilani 2021\\bits pilani sem 1\\anaconda (python)\\lib\\site-packages (from requests<3,>=2.21.0->tensorboard<2.13,>=2.12->tensorflow-intel==2.12.0->tensorflow) (2021.10.8)\n",
      "Requirement already satisfied: idna<4,>=2.5 in e:\\bits pilani - pilani 2021\\bits pilani sem 1\\anaconda (python)\\lib\\site-packages (from requests<3,>=2.21.0->tensorboard<2.13,>=2.12->tensorflow-intel==2.12.0->tensorflow) (3.2)\n",
      "Requirement already satisfied: charset-normalizer~=2.0.0 in e:\\bits pilani - pilani 2021\\bits pilani sem 1\\anaconda (python)\\lib\\site-packages (from requests<3,>=2.21.0->tensorboard<2.13,>=2.12->tensorflow-intel==2.12.0->tensorflow) (2.0.4)\n",
      "Requirement already satisfied: oauthlib>=3.0.0 in e:\\bits pilani - pilani 2021\\bits pilani sem 1\\anaconda (python)\\lib\\site-packages (from requests-oauthlib>=0.7.0->google-auth-oauthlib<1.1,>=0.5->tensorboard<2.13,>=2.12->tensorflow-intel==2.12.0->tensorflow) (3.2.2)\n",
      "Requirement already satisfied: pyparsing>=2.0.2 in e:\\bits pilani - pilani 2021\\bits pilani sem 1\\anaconda (python)\\lib\\site-packages (from packaging->tensorflow-intel==2.12.0->tensorflow) (3.0.4)\n"
     ]
    },
    {
     "name": "stdout",
     "output_type": "stream",
     "text": [
      "Requirement already satisfied: gym in e:\\bits pilani - pilani 2021\\bits pilani sem 1\\anaconda (python)\\lib\\site-packages (0.26.2)\n",
      "Requirement already satisfied: gym-notices>=0.0.4 in e:\\bits pilani - pilani 2021\\bits pilani sem 1\\anaconda (python)\\lib\\site-packages (from gym) (0.0.8)\n",
      "Requirement already satisfied: cloudpickle>=1.2.0 in e:\\bits pilani - pilani 2021\\bits pilani sem 1\\anaconda (python)\\lib\\site-packages (from gym) (2.0.0)\n",
      "Requirement already satisfied: numpy>=1.18.0 in e:\\bits pilani - pilani 2021\\bits pilani sem 1\\anaconda (python)\\lib\\site-packages (from gym) (1.22.4)\n",
      "Requirement already satisfied: importlib-metadata>=4.8.0 in e:\\bits pilani - pilani 2021\\bits pilani sem 1\\anaconda (python)\\lib\\site-packages (from gym) (4.8.1)\n",
      "Requirement already satisfied: zipp>=0.5 in e:\\bits pilani - pilani 2021\\bits pilani sem 1\\anaconda (python)\\lib\\site-packages (from importlib-metadata>=4.8.0->gym) (3.6.0)\n",
      "Requirement already satisfied: keras in e:\\bits pilani - pilani 2021\\bits pilani sem 1\\anaconda (python)\\lib\\site-packages (2.12.0)\n",
      "Collecting keras-rl2\n",
      "  Downloading keras_rl2-1.0.5-py3-none-any.whl (52 kB)\n",
      "Requirement already satisfied: tensorflow in e:\\bits pilani - pilani 2021\\bits pilani sem 1\\anaconda (python)\\lib\\site-packages (from keras-rl2) (2.12.0)\n",
      "Requirement already satisfied: tensorflow-intel==2.12.0 in e:\\bits pilani - pilani 2021\\bits pilani sem 1\\anaconda (python)\\lib\\site-packages (from tensorflow->keras-rl2) (2.12.0)\n",
      "Requirement already satisfied: setuptools in e:\\bits pilani - pilani 2021\\bits pilani sem 1\\anaconda (python)\\lib\\site-packages (from tensorflow-intel==2.12.0->tensorflow->keras-rl2) (58.0.4)\n",
      "Requirement already satisfied: jax>=0.3.15 in e:\\bits pilani - pilani 2021\\bits pilani sem 1\\anaconda (python)\\lib\\site-packages (from tensorflow-intel==2.12.0->tensorflow->keras-rl2) (0.4.13)\n",
      "Requirement already satisfied: absl-py>=1.0.0 in e:\\bits pilani - pilani 2021\\bits pilani sem 1\\anaconda (python)\\lib\\site-packages (from tensorflow-intel==2.12.0->tensorflow->keras-rl2) (1.4.0)\n",
      "Requirement already satisfied: keras<2.13,>=2.12.0 in e:\\bits pilani - pilani 2021\\bits pilani sem 1\\anaconda (python)\\lib\\site-packages (from tensorflow-intel==2.12.0->tensorflow->keras-rl2) (2.12.0)\n",
      "Requirement already satisfied: tensorflow-io-gcs-filesystem>=0.23.1 in e:\\bits pilani - pilani 2021\\bits pilani sem 1\\anaconda (python)\\lib\\site-packages (from tensorflow-intel==2.12.0->tensorflow->keras-rl2) (0.31.0)\n",
      "Requirement already satisfied: protobuf!=4.21.0,!=4.21.1,!=4.21.2,!=4.21.3,!=4.21.4,!=4.21.5,<5.0.0dev,>=3.20.3 in e:\\bits pilani - pilani 2021\\bits pilani sem 1\\anaconda (python)\\lib\\site-packages (from tensorflow-intel==2.12.0->tensorflow->keras-rl2) (4.23.3)\n",
      "Requirement already satisfied: typing-extensions>=3.6.6 in e:\\bits pilani - pilani 2021\\bits pilani sem 1\\anaconda (python)\\lib\\site-packages (from tensorflow-intel==2.12.0->tensorflow->keras-rl2) (4.7.1)\n",
      "Requirement already satisfied: wrapt<1.15,>=1.11.0 in e:\\bits pilani - pilani 2021\\bits pilani sem 1\\anaconda (python)\\lib\\site-packages (from tensorflow-intel==2.12.0->tensorflow->keras-rl2) (1.12.1)\n",
      "Requirement already satisfied: h5py>=2.9.0 in e:\\bits pilani - pilani 2021\\bits pilani sem 1\\anaconda (python)\\lib\\site-packages (from tensorflow-intel==2.12.0->tensorflow->keras-rl2) (3.2.1)\n",
      "Requirement already satisfied: six>=1.12.0 in e:\\bits pilani - pilani 2021\\bits pilani sem 1\\anaconda (python)\\lib\\site-packages (from tensorflow-intel==2.12.0->tensorflow->keras-rl2) (1.16.0)\n",
      "Requirement already satisfied: tensorboard<2.13,>=2.12 in e:\\bits pilani - pilani 2021\\bits pilani sem 1\\anaconda (python)\\lib\\site-packages (from tensorflow-intel==2.12.0->tensorflow->keras-rl2) (2.12.3)\n",
      "Requirement already satisfied: termcolor>=1.1.0 in e:\\bits pilani - pilani 2021\\bits pilani sem 1\\anaconda (python)\\lib\\site-packages (from tensorflow-intel==2.12.0->tensorflow->keras-rl2) (2.3.0)\n",
      "Requirement already satisfied: google-pasta>=0.1.1 in e:\\bits pilani - pilani 2021\\bits pilani sem 1\\anaconda (python)\\lib\\site-packages (from tensorflow-intel==2.12.0->tensorflow->keras-rl2) (0.2.0)\n",
      "Requirement already satisfied: flatbuffers>=2.0 in e:\\bits pilani - pilani 2021\\bits pilani sem 1\\anaconda (python)\\lib\\site-packages (from tensorflow-intel==2.12.0->tensorflow->keras-rl2) (23.5.26)\n",
      "Requirement already satisfied: tensorflow-estimator<2.13,>=2.12.0 in e:\\bits pilani - pilani 2021\\bits pilani sem 1\\anaconda (python)\\lib\\site-packages (from tensorflow-intel==2.12.0->tensorflow->keras-rl2) (2.12.0)\n",
      "Requirement already satisfied: grpcio<2.0,>=1.24.3 in e:\\bits pilani - pilani 2021\\bits pilani sem 1\\anaconda (python)\\lib\\site-packages (from tensorflow-intel==2.12.0->tensorflow->keras-rl2) (1.56.0)\n",
      "Requirement already satisfied: opt-einsum>=2.3.2 in e:\\bits pilani - pilani 2021\\bits pilani sem 1\\anaconda (python)\\lib\\site-packages (from tensorflow-intel==2.12.0->tensorflow->keras-rl2) (3.3.0)\n",
      "Requirement already satisfied: numpy<1.24,>=1.22 in e:\\bits pilani - pilani 2021\\bits pilani sem 1\\anaconda (python)\\lib\\site-packages (from tensorflow-intel==2.12.0->tensorflow->keras-rl2) (1.22.4)\n",
      "Requirement already satisfied: gast<=0.4.0,>=0.2.1 in e:\\bits pilani - pilani 2021\\bits pilani sem 1\\anaconda (python)\\lib\\site-packages (from tensorflow-intel==2.12.0->tensorflow->keras-rl2) (0.4.0)\n",
      "Requirement already satisfied: packaging in e:\\bits pilani - pilani 2021\\bits pilani sem 1\\anaconda (python)\\lib\\site-packages (from tensorflow-intel==2.12.0->tensorflow->keras-rl2) (21.0)\n",
      "Requirement already satisfied: astunparse>=1.6.0 in e:\\bits pilani - pilani 2021\\bits pilani sem 1\\anaconda (python)\\lib\\site-packages (from tensorflow-intel==2.12.0->tensorflow->keras-rl2) (1.6.3)\n",
      "Requirement already satisfied: libclang>=13.0.0 in e:\\bits pilani - pilani 2021\\bits pilani sem 1\\anaconda (python)\\lib\\site-packages (from tensorflow-intel==2.12.0->tensorflow->keras-rl2) (16.0.0)\n",
      "Requirement already satisfied: wheel<1.0,>=0.23.0 in e:\\bits pilani - pilani 2021\\bits pilani sem 1\\anaconda (python)\\lib\\site-packages (from astunparse>=1.6.0->tensorflow-intel==2.12.0->tensorflow->keras-rl2) (0.37.0)\n",
      "Requirement already satisfied: importlib-metadata>=4.6 in e:\\bits pilani - pilani 2021\\bits pilani sem 1\\anaconda (python)\\lib\\site-packages (from jax>=0.3.15->tensorflow-intel==2.12.0->tensorflow->keras-rl2) (4.8.1)\n",
      "Requirement already satisfied: ml-dtypes>=0.1.0 in e:\\bits pilani - pilani 2021\\bits pilani sem 1\\anaconda (python)\\lib\\site-packages (from jax>=0.3.15->tensorflow-intel==2.12.0->tensorflow->keras-rl2) (0.2.0)\n",
      "Requirement already satisfied: scipy>=1.7 in e:\\bits pilani - pilani 2021\\bits pilani sem 1\\anaconda (python)\\lib\\site-packages (from jax>=0.3.15->tensorflow-intel==2.12.0->tensorflow->keras-rl2) (1.7.1)\n",
      "Requirement already satisfied: zipp>=0.5 in e:\\bits pilani - pilani 2021\\bits pilani sem 1\\anaconda (python)\\lib\\site-packages (from importlib-metadata>=4.6->jax>=0.3.15->tensorflow-intel==2.12.0->tensorflow->keras-rl2) (3.6.0)\n",
      "Requirement already satisfied: google-auth<3,>=1.6.3 in e:\\bits pilani - pilani 2021\\bits pilani sem 1\\anaconda (python)\\lib\\site-packages (from tensorboard<2.13,>=2.12->tensorflow-intel==2.12.0->tensorflow->keras-rl2) (2.21.0)\n",
      "Requirement already satisfied: requests<3,>=2.21.0 in e:\\bits pilani - pilani 2021\\bits pilani sem 1\\anaconda (python)\\lib\\site-packages (from tensorboard<2.13,>=2.12->tensorflow-intel==2.12.0->tensorflow->keras-rl2) (2.26.0)\n",
      "Requirement already satisfied: werkzeug>=1.0.1 in e:\\bits pilani - pilani 2021\\bits pilani sem 1\\anaconda (python)\\lib\\site-packages (from tensorboard<2.13,>=2.12->tensorflow-intel==2.12.0->tensorflow->keras-rl2) (2.0.2)\n",
      "Requirement already satisfied: google-auth-oauthlib<1.1,>=0.5 in e:\\bits pilani - pilani 2021\\bits pilani sem 1\\anaconda (python)\\lib\\site-packages (from tensorboard<2.13,>=2.12->tensorflow-intel==2.12.0->tensorflow->keras-rl2) (1.0.0)\n",
      "Requirement already satisfied: tensorboard-data-server<0.8.0,>=0.7.0 in e:\\bits pilani - pilani 2021\\bits pilani sem 1\\anaconda (python)\\lib\\site-packages (from tensorboard<2.13,>=2.12->tensorflow-intel==2.12.0->tensorflow->keras-rl2) (0.7.1)\n",
      "Requirement already satisfied: markdown>=2.6.8 in e:\\bits pilani - pilani 2021\\bits pilani sem 1\\anaconda (python)\\lib\\site-packages (from tensorboard<2.13,>=2.12->tensorflow-intel==2.12.0->tensorflow->keras-rl2) (3.4.3)\n",
      "Requirement already satisfied: rsa<5,>=3.1.4 in e:\\bits pilani - pilani 2021\\bits pilani sem 1\\anaconda (python)\\lib\\site-packages (from google-auth<3,>=1.6.3->tensorboard<2.13,>=2.12->tensorflow-intel==2.12.0->tensorflow->keras-rl2) (4.9)\n",
      "Requirement already satisfied: urllib3<2.0 in e:\\bits pilani - pilani 2021\\bits pilani sem 1\\anaconda (python)\\lib\\site-packages (from google-auth<3,>=1.6.3->tensorboard<2.13,>=2.12->tensorflow-intel==2.12.0->tensorflow->keras-rl2) (1.26.7)\n",
      "Requirement already satisfied: pyasn1-modules>=0.2.1 in e:\\bits pilani - pilani 2021\\bits pilani sem 1\\anaconda (python)\\lib\\site-packages (from google-auth<3,>=1.6.3->tensorboard<2.13,>=2.12->tensorflow-intel==2.12.0->tensorflow->keras-rl2) (0.3.0)\n",
      "Requirement already satisfied: cachetools<6.0,>=2.0.0 in e:\\bits pilani - pilani 2021\\bits pilani sem 1\\anaconda (python)\\lib\\site-packages (from google-auth<3,>=1.6.3->tensorboard<2.13,>=2.12->tensorflow-intel==2.12.0->tensorflow->keras-rl2) (5.3.1)\n",
      "Requirement already satisfied: requests-oauthlib>=0.7.0 in e:\\bits pilani - pilani 2021\\bits pilani sem 1\\anaconda (python)\\lib\\site-packages (from google-auth-oauthlib<1.1,>=0.5->tensorboard<2.13,>=2.12->tensorflow-intel==2.12.0->tensorflow->keras-rl2) (1.3.1)\n",
      "Requirement already satisfied: pyasn1<0.6.0,>=0.4.6 in e:\\bits pilani - pilani 2021\\bits pilani sem 1\\anaconda (python)\\lib\\site-packages (from pyasn1-modules>=0.2.1->google-auth<3,>=1.6.3->tensorboard<2.13,>=2.12->tensorflow-intel==2.12.0->tensorflow->keras-rl2) (0.5.0)\n",
      "Requirement already satisfied: certifi>=2017.4.17 in e:\\bits pilani - pilani 2021\\bits pilani sem 1\\anaconda (python)\\lib\\site-packages (from requests<3,>=2.21.0->tensorboard<2.13,>=2.12->tensorflow-intel==2.12.0->tensorflow->keras-rl2) (2021.10.8)\n",
      "Requirement already satisfied: idna<4,>=2.5 in e:\\bits pilani - pilani 2021\\bits pilani sem 1\\anaconda (python)\\lib\\site-packages (from requests<3,>=2.21.0->tensorboard<2.13,>=2.12->tensorflow-intel==2.12.0->tensorflow->keras-rl2) (3.2)\n",
      "Requirement already satisfied: charset-normalizer~=2.0.0 in e:\\bits pilani - pilani 2021\\bits pilani sem 1\\anaconda (python)\\lib\\site-packages (from requests<3,>=2.21.0->tensorboard<2.13,>=2.12->tensorflow-intel==2.12.0->tensorflow->keras-rl2) (2.0.4)\n",
      "Requirement already satisfied: oauthlib>=3.0.0 in e:\\bits pilani - pilani 2021\\bits pilani sem 1\\anaconda (python)\\lib\\site-packages (from requests-oauthlib>=0.7.0->google-auth-oauthlib<1.1,>=0.5->tensorboard<2.13,>=2.12->tensorflow-intel==2.12.0->tensorflow->keras-rl2) (3.2.2)\n",
      "Requirement already satisfied: pyparsing>=2.0.2 in e:\\bits pilani - pilani 2021\\bits pilani sem 1\\anaconda (python)\\lib\\site-packages (from packaging->tensorflow-intel==2.12.0->tensorflow->keras-rl2) (3.0.4)\n",
      "Installing collected packages: keras-rl2\n",
      "Successfully installed keras-rl2-1.0.5\n"
     ]
    }
   ],
   "source": [
    "!pip install tensorflow\n",
    "!pip install gym\n",
    "!pip install keras\n",
    "!pip install keras-rl2"
   ]
  },
  {
   "cell_type": "code",
   "execution_count": 3,
   "id": "7efb9179",
   "metadata": {},
   "outputs": [],
   "source": [
    "import gym\n",
    "import random"
   ]
  },
  {
   "cell_type": "code",
   "execution_count": 38,
   "id": "5871ee3c",
   "metadata": {
    "scrolled": true
   },
   "outputs": [],
   "source": [
    "env=gym.make('CartPole-v1')\n",
    "states=env.observation_space.shape[0]\n",
    "actions=env.action_space.n"
   ]
  },
  {
   "cell_type": "code",
   "execution_count": 39,
   "id": "8f70f86d",
   "metadata": {},
   "outputs": [
    {
     "data": {
      "text/plain": [
       "(4,)"
      ]
     },
     "execution_count": 39,
     "metadata": {},
     "output_type": "execute_result"
    }
   ],
   "source": [
    "env.observation_space.shape"
   ]
  },
  {
   "cell_type": "code",
   "execution_count": 40,
   "id": "1af8e4f4",
   "metadata": {},
   "outputs": [
    {
     "data": {
      "text/plain": [
       "4"
      ]
     },
     "execution_count": 40,
     "metadata": {},
     "output_type": "execute_result"
    }
   ],
   "source": [
    "states"
   ]
  },
  {
   "cell_type": "code",
   "execution_count": 42,
   "id": "db35000f",
   "metadata": {
    "scrolled": true
   },
   "outputs": [
    {
     "name": "stdout",
     "output_type": "stream",
     "text": [
      "Episode: 1 Score: 28.0\n",
      "Episode: 2 Score: 17.0\n",
      "Episode: 3 Score: 76.0\n",
      "Episode: 4 Score: 25.0\n",
      "Episode: 5 Score: 27.0\n",
      "Episode: 6 Score: 17.0\n",
      "Episode: 7 Score: 53.0\n",
      "Episode: 8 Score: 27.0\n",
      "Episode: 9 Score: 21.0\n",
      "Episode: 10 Score: 31.0\n"
     ]
    }
   ],
   "source": [
    "episodes=10\n",
    "for episode in range(1,episodes+1):\n",
    "    state=env.reset()\n",
    "    done=False\n",
    "    score=0\n",
    "    \n",
    "    while not done:\n",
    "        env.render()\n",
    "        action=random.choice([0,1])\n",
    "        n_state,reward,done,terminated,truncated=env.step(action)\n",
    "        score+=reward\n",
    "    print('Episode: {} Score: {}'.format(episode,score))\n",
    "env.close()"
   ]
  },
  {
   "cell_type": "code",
   "execution_count": 43,
   "id": "13a33028",
   "metadata": {},
   "outputs": [],
   "source": [
    "import numpy as np\n",
    "from tensorflow.keras.models import Sequential\n",
    "from tensorflow.keras.layers import Dense,Flatten\n",
    "from tensorflow.keras.optimizers.legacy import Adam"
   ]
  },
  {
   "cell_type": "code",
   "execution_count": 56,
   "id": "3ed70948",
   "metadata": {},
   "outputs": [],
   "source": [
    "def build_model(states,actions):\n",
    "    model=Sequential()\n",
    "    model.add(Flatten(input_shape=(1,states)))\n",
    "    model.add(Dense(24,activation='relu'))\n",
    "    model.add(Dense(24,activation='relu'))\n",
    "    model.add(Dense(actions,activation='linear'))\n",
    "    return model"
   ]
  },
  {
   "cell_type": "code",
   "execution_count": 57,
   "id": "565d1f4f",
   "metadata": {},
   "outputs": [],
   "source": [
    "model=build_model(states,actions)"
   ]
  },
  {
   "cell_type": "code",
   "execution_count": 58,
   "id": "228331bf",
   "metadata": {},
   "outputs": [
    {
     "name": "stdout",
     "output_type": "stream",
     "text": [
      "Model: \"sequential_5\"\n",
      "_________________________________________________________________\n",
      " Layer (type)                Output Shape              Param #   \n",
      "=================================================================\n",
      " flatten_5 (Flatten)         (None, 4)                 0         \n",
      "                                                                 \n",
      " dense_15 (Dense)            (None, 24)                120       \n",
      "                                                                 \n",
      " dense_16 (Dense)            (None, 24)                600       \n",
      "                                                                 \n",
      " dense_17 (Dense)            (None, 2)                 50        \n",
      "                                                                 \n",
      "=================================================================\n",
      "Total params: 770\n",
      "Trainable params: 770\n",
      "Non-trainable params: 0\n",
      "_________________________________________________________________\n"
     ]
    }
   ],
   "source": [
    "model.summary()"
   ]
  },
  {
   "cell_type": "code",
   "execution_count": 59,
   "id": "4ba77611",
   "metadata": {},
   "outputs": [],
   "source": [
    "from rl.agents import DQNAgent\n",
    "from rl.policy import BoltzmannQPolicy\n",
    "from rl.memory import SequentialMemory"
   ]
  },
  {
   "cell_type": "code",
   "execution_count": 60,
   "id": "a8aa65e1",
   "metadata": {},
   "outputs": [],
   "source": [
    "def build_agent(model,actions):\n",
    "    policy=BoltzmannQPolicy()\n",
    "    memory=SequentialMemory(limit=5000,window_length=1)\n",
    "    dqn=DQNAgent(model=model,memory=memory,policy=policy,nb_actions=actions,nb_steps_warmup=10,target_model_update=1e-2)\n",
    "    return dqn"
   ]
  },
  {
   "cell_type": "code",
   "execution_count": 64,
   "id": "8ddc92b4",
   "metadata": {
    "scrolled": true
   },
   "outputs": [
    {
     "name": "stdout",
     "output_type": "stream",
     "text": [
      "Training for 50000 steps ...\n",
      "Interval 1 (0 steps performed)\n"
     ]
    },
    {
     "ename": "ValueError",
     "evalue": "Error when checking input: expected flatten_5_input to have shape (1, 4) but got array with shape (1, 2)",
     "output_type": "error",
     "traceback": [
      "\u001b[1;31m---------------------------------------------------------------------------\u001b[0m",
      "\u001b[1;31mValueError\u001b[0m                                Traceback (most recent call last)",
      "\u001b[1;32m~\\AppData\\Local\\Temp/ipykernel_14476/4258810839.py\u001b[0m in \u001b[0;36m<module>\u001b[1;34m\u001b[0m\n\u001b[0;32m      1\u001b[0m \u001b[0mdqn\u001b[0m\u001b[1;33m=\u001b[0m\u001b[0mbuild_agent\u001b[0m\u001b[1;33m(\u001b[0m\u001b[0mmodel\u001b[0m\u001b[1;33m,\u001b[0m\u001b[0mactions\u001b[0m\u001b[1;33m)\u001b[0m\u001b[1;33m\u001b[0m\u001b[1;33m\u001b[0m\u001b[0m\n\u001b[0;32m      2\u001b[0m \u001b[0mdqn\u001b[0m\u001b[1;33m.\u001b[0m\u001b[0mcompile\u001b[0m\u001b[1;33m(\u001b[0m\u001b[0mAdam\u001b[0m\u001b[1;33m(\u001b[0m\u001b[0mlr\u001b[0m\u001b[1;33m=\u001b[0m\u001b[1;36m1e-3\u001b[0m\u001b[1;33m)\u001b[0m\u001b[1;33m,\u001b[0m\u001b[0mmetrics\u001b[0m\u001b[1;33m=\u001b[0m\u001b[1;33m[\u001b[0m\u001b[1;34m'mae'\u001b[0m\u001b[1;33m]\u001b[0m\u001b[1;33m)\u001b[0m\u001b[1;33m\u001b[0m\u001b[1;33m\u001b[0m\u001b[0m\n\u001b[1;32m----> 3\u001b[1;33m \u001b[0mdqn\u001b[0m\u001b[1;33m.\u001b[0m\u001b[0mfit\u001b[0m\u001b[1;33m(\u001b[0m\u001b[0menv\u001b[0m\u001b[1;33m,\u001b[0m\u001b[0mnb_steps\u001b[0m\u001b[1;33m=\u001b[0m\u001b[1;36m50000\u001b[0m\u001b[1;33m,\u001b[0m\u001b[0mvisualize\u001b[0m\u001b[1;33m=\u001b[0m\u001b[1;32mFalse\u001b[0m\u001b[1;33m,\u001b[0m\u001b[0mverbose\u001b[0m\u001b[1;33m=\u001b[0m\u001b[1;36m1\u001b[0m\u001b[1;33m)\u001b[0m\u001b[1;33m\u001b[0m\u001b[1;33m\u001b[0m\u001b[0m\n\u001b[0m",
      "\u001b[1;32mE:\\BITS PILANI - PILANI 2021\\BITS PILANI SEM 1\\Anaconda (python)\\lib\\site-packages\\rl\\core.py\u001b[0m in \u001b[0;36mfit\u001b[1;34m(self, env, nb_steps, action_repetition, callbacks, verbose, visualize, nb_max_start_steps, start_step_policy, log_interval, nb_max_episode_steps)\u001b[0m\n\u001b[0;32m    166\u001b[0m                 \u001b[1;31m# This is were all of the work happens. We first perceive and compute the action\u001b[0m\u001b[1;33m\u001b[0m\u001b[1;33m\u001b[0m\u001b[0m\n\u001b[0;32m    167\u001b[0m                 \u001b[1;31m# (forward step) and then use the reward to improve (backward step).\u001b[0m\u001b[1;33m\u001b[0m\u001b[1;33m\u001b[0m\u001b[0m\n\u001b[1;32m--> 168\u001b[1;33m \u001b[1;33m\u001b[0m\u001b[0m\n\u001b[0m\u001b[0;32m    169\u001b[0m                 \u001b[0maction\u001b[0m \u001b[1;33m=\u001b[0m \u001b[0mself\u001b[0m\u001b[1;33m.\u001b[0m\u001b[0mforward\u001b[0m\u001b[1;33m(\u001b[0m\u001b[0mobservation\u001b[0m\u001b[1;33m)\u001b[0m\u001b[1;33m\u001b[0m\u001b[1;33m\u001b[0m\u001b[0m\n\u001b[0;32m    170\u001b[0m                 \u001b[1;32mif\u001b[0m \u001b[0mself\u001b[0m\u001b[1;33m.\u001b[0m\u001b[0mprocessor\u001b[0m \u001b[1;32mis\u001b[0m \u001b[1;32mnot\u001b[0m \u001b[1;32mNone\u001b[0m\u001b[1;33m:\u001b[0m\u001b[1;33m\u001b[0m\u001b[1;33m\u001b[0m\u001b[0m\n",
      "\u001b[1;32mE:\\BITS PILANI - PILANI 2021\\BITS PILANI SEM 1\\Anaconda (python)\\lib\\site-packages\\rl\\agents\\dqn.py\u001b[0m in \u001b[0;36mforward\u001b[1;34m(self, observation)\u001b[0m\n\u001b[0;32m    222\u001b[0m         \u001b[1;31m# Select an action.\u001b[0m\u001b[1;33m\u001b[0m\u001b[1;33m\u001b[0m\u001b[0m\n\u001b[0;32m    223\u001b[0m         \u001b[0mstate\u001b[0m \u001b[1;33m=\u001b[0m \u001b[0mself\u001b[0m\u001b[1;33m.\u001b[0m\u001b[0mmemory\u001b[0m\u001b[1;33m.\u001b[0m\u001b[0mget_recent_state\u001b[0m\u001b[1;33m(\u001b[0m\u001b[0mobservation\u001b[0m\u001b[1;33m)\u001b[0m\u001b[1;33m\u001b[0m\u001b[1;33m\u001b[0m\u001b[0m\n\u001b[1;32m--> 224\u001b[1;33m         \u001b[0mq_values\u001b[0m \u001b[1;33m=\u001b[0m \u001b[0mself\u001b[0m\u001b[1;33m.\u001b[0m\u001b[0mcompute_q_values\u001b[0m\u001b[1;33m(\u001b[0m\u001b[0mstate\u001b[0m\u001b[1;33m)\u001b[0m\u001b[1;33m\u001b[0m\u001b[1;33m\u001b[0m\u001b[0m\n\u001b[0m\u001b[0;32m    225\u001b[0m         \u001b[1;32mif\u001b[0m \u001b[0mself\u001b[0m\u001b[1;33m.\u001b[0m\u001b[0mtraining\u001b[0m\u001b[1;33m:\u001b[0m\u001b[1;33m\u001b[0m\u001b[1;33m\u001b[0m\u001b[0m\n\u001b[0;32m    226\u001b[0m             \u001b[0maction\u001b[0m \u001b[1;33m=\u001b[0m \u001b[0mself\u001b[0m\u001b[1;33m.\u001b[0m\u001b[0mpolicy\u001b[0m\u001b[1;33m.\u001b[0m\u001b[0mselect_action\u001b[0m\u001b[1;33m(\u001b[0m\u001b[0mq_values\u001b[0m\u001b[1;33m=\u001b[0m\u001b[0mq_values\u001b[0m\u001b[1;33m)\u001b[0m\u001b[1;33m\u001b[0m\u001b[1;33m\u001b[0m\u001b[0m\n",
      "\u001b[1;32mE:\\BITS PILANI - PILANI 2021\\BITS PILANI SEM 1\\Anaconda (python)\\lib\\site-packages\\rl\\agents\\dqn.py\u001b[0m in \u001b[0;36mcompute_q_values\u001b[1;34m(self, state)\u001b[0m\n\u001b[0;32m     66\u001b[0m \u001b[1;33m\u001b[0m\u001b[0m\n\u001b[0;32m     67\u001b[0m     \u001b[1;32mdef\u001b[0m \u001b[0mcompute_q_values\u001b[0m\u001b[1;33m(\u001b[0m\u001b[0mself\u001b[0m\u001b[1;33m,\u001b[0m \u001b[0mstate\u001b[0m\u001b[1;33m)\u001b[0m\u001b[1;33m:\u001b[0m\u001b[1;33m\u001b[0m\u001b[1;33m\u001b[0m\u001b[0m\n\u001b[1;32m---> 68\u001b[1;33m         \u001b[0mq_values\u001b[0m \u001b[1;33m=\u001b[0m \u001b[0mself\u001b[0m\u001b[1;33m.\u001b[0m\u001b[0mcompute_batch_q_values\u001b[0m\u001b[1;33m(\u001b[0m\u001b[1;33m[\u001b[0m\u001b[0mstate\u001b[0m\u001b[1;33m]\u001b[0m\u001b[1;33m)\u001b[0m\u001b[1;33m.\u001b[0m\u001b[0mflatten\u001b[0m\u001b[1;33m(\u001b[0m\u001b[1;33m)\u001b[0m\u001b[1;33m\u001b[0m\u001b[1;33m\u001b[0m\u001b[0m\n\u001b[0m\u001b[0;32m     69\u001b[0m         \u001b[1;32massert\u001b[0m \u001b[0mq_values\u001b[0m\u001b[1;33m.\u001b[0m\u001b[0mshape\u001b[0m \u001b[1;33m==\u001b[0m \u001b[1;33m(\u001b[0m\u001b[0mself\u001b[0m\u001b[1;33m.\u001b[0m\u001b[0mnb_actions\u001b[0m\u001b[1;33m,\u001b[0m\u001b[1;33m)\u001b[0m\u001b[1;33m\u001b[0m\u001b[1;33m\u001b[0m\u001b[0m\n\u001b[0;32m     70\u001b[0m         \u001b[1;32mreturn\u001b[0m \u001b[0mq_values\u001b[0m\u001b[1;33m\u001b[0m\u001b[1;33m\u001b[0m\u001b[0m\n",
      "\u001b[1;32mE:\\BITS PILANI - PILANI 2021\\BITS PILANI SEM 1\\Anaconda (python)\\lib\\site-packages\\rl\\agents\\dqn.py\u001b[0m in \u001b[0;36mcompute_batch_q_values\u001b[1;34m(self, state_batch)\u001b[0m\n\u001b[0;32m     61\u001b[0m     \u001b[1;32mdef\u001b[0m \u001b[0mcompute_batch_q_values\u001b[0m\u001b[1;33m(\u001b[0m\u001b[0mself\u001b[0m\u001b[1;33m,\u001b[0m \u001b[0mstate_batch\u001b[0m\u001b[1;33m)\u001b[0m\u001b[1;33m:\u001b[0m\u001b[1;33m\u001b[0m\u001b[1;33m\u001b[0m\u001b[0m\n\u001b[0;32m     62\u001b[0m         \u001b[0mbatch\u001b[0m \u001b[1;33m=\u001b[0m \u001b[0mself\u001b[0m\u001b[1;33m.\u001b[0m\u001b[0mprocess_state_batch\u001b[0m\u001b[1;33m(\u001b[0m\u001b[0mstate_batch\u001b[0m\u001b[1;33m)\u001b[0m\u001b[1;33m\u001b[0m\u001b[1;33m\u001b[0m\u001b[0m\n\u001b[1;32m---> 63\u001b[1;33m         \u001b[0mq_values\u001b[0m \u001b[1;33m=\u001b[0m \u001b[0mself\u001b[0m\u001b[1;33m.\u001b[0m\u001b[0mmodel\u001b[0m\u001b[1;33m.\u001b[0m\u001b[0mpredict_on_batch\u001b[0m\u001b[1;33m(\u001b[0m\u001b[0mbatch\u001b[0m\u001b[1;33m)\u001b[0m\u001b[1;33m\u001b[0m\u001b[1;33m\u001b[0m\u001b[0m\n\u001b[0m\u001b[0;32m     64\u001b[0m         \u001b[1;32massert\u001b[0m \u001b[0mq_values\u001b[0m\u001b[1;33m.\u001b[0m\u001b[0mshape\u001b[0m \u001b[1;33m==\u001b[0m \u001b[1;33m(\u001b[0m\u001b[0mlen\u001b[0m\u001b[1;33m(\u001b[0m\u001b[0mstate_batch\u001b[0m\u001b[1;33m)\u001b[0m\u001b[1;33m,\u001b[0m \u001b[0mself\u001b[0m\u001b[1;33m.\u001b[0m\u001b[0mnb_actions\u001b[0m\u001b[1;33m)\u001b[0m\u001b[1;33m\u001b[0m\u001b[1;33m\u001b[0m\u001b[0m\n\u001b[0;32m     65\u001b[0m         \u001b[1;32mreturn\u001b[0m \u001b[0mq_values\u001b[0m\u001b[1;33m\u001b[0m\u001b[1;33m\u001b[0m\u001b[0m\n",
      "\u001b[1;32mE:\\BITS PILANI - PILANI 2021\\BITS PILANI SEM 1\\Anaconda (python)\\lib\\site-packages\\keras\\engine\\training_v1.py\u001b[0m in \u001b[0;36mpredict_on_batch\u001b[1;34m(self, x)\u001b[0m\n\u001b[0;32m   1303\u001b[0m             )\n\u001b[0;32m   1304\u001b[0m         \u001b[1;31m# Validate and standardize user data.\u001b[0m\u001b[1;33m\u001b[0m\u001b[1;33m\u001b[0m\u001b[0m\n\u001b[1;32m-> 1305\u001b[1;33m         inputs, _, _ = self._standardize_user_data(\n\u001b[0m\u001b[0;32m   1306\u001b[0m             \u001b[0mx\u001b[0m\u001b[1;33m,\u001b[0m \u001b[0mextract_tensors_from_dataset\u001b[0m\u001b[1;33m=\u001b[0m\u001b[1;32mTrue\u001b[0m\u001b[1;33m\u001b[0m\u001b[1;33m\u001b[0m\u001b[0m\n\u001b[0;32m   1307\u001b[0m         )\n",
      "\u001b[1;32mE:\\BITS PILANI - PILANI 2021\\BITS PILANI SEM 1\\Anaconda (python)\\lib\\site-packages\\keras\\engine\\training_v1.py\u001b[0m in \u001b[0;36m_standardize_user_data\u001b[1;34m(self, x, y, sample_weight, class_weight, batch_size, check_steps, steps_name, steps, validation_split, shuffle, extract_tensors_from_dataset)\u001b[0m\n\u001b[0;32m   2650\u001b[0m             \u001b[1;32mreturn\u001b[0m \u001b[1;33m[\u001b[0m\u001b[1;33m]\u001b[0m\u001b[1;33m,\u001b[0m \u001b[1;33m[\u001b[0m\u001b[1;33m]\u001b[0m\u001b[1;33m,\u001b[0m \u001b[1;32mNone\u001b[0m\u001b[1;33m\u001b[0m\u001b[1;33m\u001b[0m\u001b[0m\n\u001b[0;32m   2651\u001b[0m \u001b[1;33m\u001b[0m\u001b[0m\n\u001b[1;32m-> 2652\u001b[1;33m         return self._standardize_tensors(\n\u001b[0m\u001b[0;32m   2653\u001b[0m             \u001b[0mx\u001b[0m\u001b[1;33m,\u001b[0m\u001b[1;33m\u001b[0m\u001b[1;33m\u001b[0m\u001b[0m\n\u001b[0;32m   2654\u001b[0m             \u001b[0my\u001b[0m\u001b[1;33m,\u001b[0m\u001b[1;33m\u001b[0m\u001b[1;33m\u001b[0m\u001b[0m\n",
      "\u001b[1;32mE:\\BITS PILANI - PILANI 2021\\BITS PILANI SEM 1\\Anaconda (python)\\lib\\site-packages\\keras\\engine\\training_v1.py\u001b[0m in \u001b[0;36m_standardize_tensors\u001b[1;34m(self, x, y, sample_weight, run_eagerly, dict_inputs, is_dataset, class_weight, batch_size)\u001b[0m\n\u001b[0;32m   2691\u001b[0m         \u001b[1;32mif\u001b[0m \u001b[1;32mnot\u001b[0m \u001b[0misinstance\u001b[0m\u001b[1;33m(\u001b[0m\u001b[0mx\u001b[0m\u001b[1;33m,\u001b[0m \u001b[1;33m(\u001b[0m\u001b[0mtf\u001b[0m\u001b[1;33m.\u001b[0m\u001b[0mcompat\u001b[0m\u001b[1;33m.\u001b[0m\u001b[0mv1\u001b[0m\u001b[1;33m.\u001b[0m\u001b[0mdata\u001b[0m\u001b[1;33m.\u001b[0m\u001b[0mDataset\u001b[0m\u001b[1;33m,\u001b[0m \u001b[0mtf\u001b[0m\u001b[1;33m.\u001b[0m\u001b[0mdata\u001b[0m\u001b[1;33m.\u001b[0m\u001b[0mDataset\u001b[0m\u001b[1;33m)\u001b[0m\u001b[1;33m)\u001b[0m\u001b[1;33m:\u001b[0m\u001b[1;33m\u001b[0m\u001b[1;33m\u001b[0m\u001b[0m\n\u001b[0;32m   2692\u001b[0m             \u001b[1;31m# TODO(fchollet): run static checks with dataset output shape(s).\u001b[0m\u001b[1;33m\u001b[0m\u001b[1;33m\u001b[0m\u001b[0m\n\u001b[1;32m-> 2693\u001b[1;33m             x = training_utils_v1.standardize_input_data(\n\u001b[0m\u001b[0;32m   2694\u001b[0m                 \u001b[0mx\u001b[0m\u001b[1;33m,\u001b[0m\u001b[1;33m\u001b[0m\u001b[1;33m\u001b[0m\u001b[0m\n\u001b[0;32m   2695\u001b[0m                 \u001b[0mfeed_input_names\u001b[0m\u001b[1;33m,\u001b[0m\u001b[1;33m\u001b[0m\u001b[1;33m\u001b[0m\u001b[0m\n",
      "\u001b[1;32mE:\\BITS PILANI - PILANI 2021\\BITS PILANI SEM 1\\Anaconda (python)\\lib\\site-packages\\keras\\engine\\training_utils_v1.py\u001b[0m in \u001b[0;36mstandardize_input_data\u001b[1;34m(data, names, shapes, check_batch_axis, exception_prefix)\u001b[0m\n\u001b[0;32m    729\u001b[0m                         \u001b[1;32mand\u001b[0m \u001b[0mdim\u001b[0m \u001b[1;32mis\u001b[0m \u001b[1;32mnot\u001b[0m \u001b[1;32mNone\u001b[0m\u001b[1;33m\u001b[0m\u001b[1;33m\u001b[0m\u001b[0m\n\u001b[0;32m    730\u001b[0m                     ):\n\u001b[1;32m--> 731\u001b[1;33m                         raise ValueError(\n\u001b[0m\u001b[0;32m    732\u001b[0m                             \u001b[1;34m\"Error when checking \"\u001b[0m\u001b[1;33m\u001b[0m\u001b[1;33m\u001b[0m\u001b[0m\n\u001b[0;32m    733\u001b[0m                             \u001b[1;33m+\u001b[0m \u001b[0mexception_prefix\u001b[0m\u001b[1;33m\u001b[0m\u001b[1;33m\u001b[0m\u001b[0m\n",
      "\u001b[1;31mValueError\u001b[0m: Error when checking input: expected flatten_5_input to have shape (1, 4) but got array with shape (1, 2)"
     ]
    }
   ],
   "source": [
    "dqn=build_agent(model,actions)\n",
    "dqn.compile(Adam(lr=1e-3),metrics=['mae'])\n",
    "dqn.fit(env,nb_steps=50000,visualize=False,verbose=1)"
   ]
  },
  {
   "cell_type": "raw",
   "id": "1993d6ad",
   "metadata": {},
   "source": []
  }
 ],
 "metadata": {
  "kernelspec": {
   "display_name": "Python 3 (ipykernel)",
   "language": "python",
   "name": "python3"
  },
  "language_info": {
   "codemirror_mode": {
    "name": "ipython",
    "version": 3
   },
   "file_extension": ".py",
   "mimetype": "text/x-python",
   "name": "python",
   "nbconvert_exporter": "python",
   "pygments_lexer": "ipython3",
   "version": "3.9.7"
  }
 },
 "nbformat": 4,
 "nbformat_minor": 5
}
