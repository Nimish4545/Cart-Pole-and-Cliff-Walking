{
 "cells": [
  {
   "cell_type": "code",
   "execution_count": 1,
   "id": "c1f6b0e3",
   "metadata": {
    "scrolled": true
   },
   "outputs": [
    {
     "name": "stdout",
     "output_type": "stream",
     "text": [
      "Collecting torch\n",
      "  Using cached torch-2.0.1-cp39-cp39-win_amd64.whl (172.4 MB)\n",
      "Collecting torchvision\n",
      "  Downloading torchvision-0.15.2-cp39-cp39-win_amd64.whl (1.2 MB)\n",
      "Collecting torchaudio\n",
      "  Downloading torchaudio-2.0.2-cp39-cp39-win_amd64.whl (2.1 MB)\n",
      "Requirement already satisfied: typing-extensions in e:\\bits pilani - pilani 2021\\bits pilani sem 1\\anaconda (python)\\lib\\site-packages (from torch) (3.10.0.2)\n",
      "Requirement already satisfied: networkx in e:\\bits pilani - pilani 2021\\bits pilani sem 1\\anaconda (python)\\lib\\site-packages (from torch) (2.6.3)\n",
      "Requirement already satisfied: jinja2 in e:\\bits pilani - pilani 2021\\bits pilani sem 1\\anaconda (python)\\lib\\site-packages (from torch) (2.11.3)\n",
      "Requirement already satisfied: filelock in e:\\bits pilani - pilani 2021\\bits pilani sem 1\\anaconda (python)\\lib\\site-packages (from torch) (3.3.1)\n",
      "Requirement already satisfied: sympy in e:\\bits pilani - pilani 2021\\bits pilani sem 1\\anaconda (python)\\lib\\site-packages (from torch) (1.9)\n",
      "Requirement already satisfied: requests in e:\\bits pilani - pilani 2021\\bits pilani sem 1\\anaconda (python)\\lib\\site-packages (from torchvision) (2.26.0)\n",
      "Requirement already satisfied: pillow!=8.3.*,>=5.3.0 in e:\\bits pilani - pilani 2021\\bits pilani sem 1\\anaconda (python)\\lib\\site-packages (from torchvision) (8.4.0)\n",
      "Requirement already satisfied: numpy in e:\\bits pilani - pilani 2021\\bits pilani sem 1\\anaconda (python)\\lib\\site-packages (from torchvision) (1.22.4)\n",
      "Requirement already satisfied: MarkupSafe>=0.23 in e:\\bits pilani - pilani 2021\\bits pilani sem 1\\anaconda (python)\\lib\\site-packages (from jinja2->torch) (1.1.1)\n",
      "Requirement already satisfied: certifi>=2017.4.17 in e:\\bits pilani - pilani 2021\\bits pilani sem 1\\anaconda (python)\\lib\\site-packages (from requests->torchvision) (2021.10.8)\n",
      "Requirement already satisfied: idna<4,>=2.5 in e:\\bits pilani - pilani 2021\\bits pilani sem 1\\anaconda (python)\\lib\\site-packages (from requests->torchvision) (3.2)\n",
      "Requirement already satisfied: charset-normalizer~=2.0.0 in e:\\bits pilani - pilani 2021\\bits pilani sem 1\\anaconda (python)\\lib\\site-packages (from requests->torchvision) (2.0.4)\n",
      "Requirement already satisfied: urllib3<1.27,>=1.21.1 in e:\\bits pilani - pilani 2021\\bits pilani sem 1\\anaconda (python)\\lib\\site-packages (from requests->torchvision) (1.26.7)\n",
      "Requirement already satisfied: mpmath>=0.19 in e:\\bits pilani - pilani 2021\\bits pilani sem 1\\anaconda (python)\\lib\\site-packages (from sympy->torch) (1.2.1)\n",
      "Installing collected packages: torch, torchvision, torchaudio\n",
      "Successfully installed torch-2.0.1 torchaudio-2.0.2 torchvision-0.15.2\n",
      "Note: you may need to restart the kernel to use updated packages.\n"
     ]
    }
   ],
   "source": [
    "pip install torch torchvision torchaudio"
   ]
  },
  {
   "cell_type": "code",
   "execution_count": 90,
   "id": "000b1a72",
   "metadata": {},
   "outputs": [
    {
     "name": "stdout",
     "output_type": "stream",
     "text": [
      "Collecting tf-slimNote: you may need to restart the kernel to use updated packages.\n",
      "\n",
      "  Downloading tf_slim-1.1.0-py2.py3-none-any.whl (352 kB)\n",
      "Requirement already satisfied: absl-py>=0.2.2 in e:\\bits pilani - pilani 2021\\bits pilani sem 1\\anaconda (python)\\lib\\site-packages (from tf-slim) (1.4.0)\n",
      "Installing collected packages: tf-slim\n",
      "Successfully installed tf-slim-1.1.0\n"
     ]
    }
   ],
   "source": [
    "pip install tf-slim"
   ]
  },
  {
   "cell_type": "code",
   "execution_count": 91,
   "id": "26245238",
   "metadata": {
    "scrolled": true
   },
   "outputs": [],
   "source": [
    "%matplotlib inline\n",
    "\n",
    "import gym\n",
    "import numpy as np\n",
    "import matplotlib\n",
    "import itertools\n",
    "import sys\n",
    "import torch\n",
    "import collections\n",
    "import tensorflow.compat.v1 as tf\n",
    "from tf_slim.layers import layers as _layers\n",
    "\n",
    "if \"https://github.com/dennybritz/reinforcement-learning/blob/master/lib/envs/cliff_walking.py\" not in sys.path:\n",
    "    sys.path.append(\"https://github.com/dennybritz/reinforcement-learning/blob/master/lib/envs/cliff_walking.py\")\n",
    "\n",
    "from Lib.envs.cliff_walking import CliffWalkingEnv\n",
    "from Lib import plotting\n",
    "\n",
    "matplotlib.style.use('ggplot')"
   ]
  },
  {
   "cell_type": "code",
   "execution_count": 92,
   "id": "b05b2d9b",
   "metadata": {},
   "outputs": [],
   "source": [
    "tf.compat.v1.disable_eager_execution()"
   ]
  },
  {
   "cell_type": "code",
   "execution_count": 93,
   "id": "7222603f",
   "metadata": {},
   "outputs": [],
   "source": [
    "env=CliffWalkingEnv()"
   ]
  },
  {
   "cell_type": "code",
   "execution_count": 123,
   "id": "63451570",
   "metadata": {},
   "outputs": [],
   "source": [
    "class PolicyEstimator():\n",
    "    #Policy Function Approximator\n",
    "    \n",
    "    def __init__(self,learning_rate=0.01,scope=\"policy_estimator\"):\n",
    "        with tf.variable_scope(scope):\n",
    "            self.state=tf.placeholder(dtype=tf.int32,name=\"state\")\n",
    "            self.action=tf.placeholder(dtype=tf.int32,name=\"action\")\n",
    "            self.target=tf.placeholder(dtype=tf.int32,name=\"target\")\n",
    "            \n",
    "            state_one_hot=tf.one_hot(self.state,int(env.observation_space.n))\n",
    "            self.output_layer=_layers.fully_connected(inputs=tf.expand_dims(state_one_hot,0),\n",
    "                                                                num_outputs=env.action_space.n,\n",
    "                                                                activation_fn=None,\n",
    "                                                                weights_initializer=tf.zeros_initializer)\n",
    "            self.action_probs=tf.squeeze(tf.nn.softmax(self.output_layer))\n",
    "            self.picked_action_prob=tf.gather(self.action_probs,self.action)\n",
    "            \n",
    "            self.loss=-tf.log(self.picked_action_prob)*self.target\n",
    "            \n",
    "            self.optimizer=tf.train.AdamOptimizer(learning_rate=learning_rate)\n",
    "            self.train_op=self.optimizer.minimize(self.loss\n",
    "                                                 ,global_step=tf.estimator.framework.get_global_step())\n",
    "            \n",
    "    def predict(self,state,sess=None):\n",
    "        sess=sess or tf.get_default_session()\n",
    "        return sess.run(self.action_probs,{self.state:state})\n",
    "    \n",
    "    def update(self,state,target,action,sess=None):\n",
    "        sess=sess or tf.get_default_session()\n",
    "        feed_dict={self.state:state,self.target:target,self.action:action}\n",
    "        _,loss=sess.run([self.train_op,self.loss],feed_dict)\n",
    "        return loss"
   ]
  },
  {
   "cell_type": "code",
   "execution_count": 124,
   "id": "5102eced",
   "metadata": {},
   "outputs": [],
   "source": [
    "class ValueEstimator():\n",
    "    #Value Function Approximator\n",
    "    \n",
    "    def __init__(self,learning_rate=0.1,scope=\"Value_estimator\"):\n",
    "        with tf.variable_scope(scope):\n",
    "            self.state=tf.placeholder(tf.int32,\"state\")\n",
    "            self.target=tf.placeholder(tf.int32,\"target\")\n",
    "            \n",
    "            state_one_hot=tf.one_hot(self.state,int(env.observation_space.n))\n",
    "            self.output_layer=_layers.fully_connected(inputs=tf.expand_dims(state_one_hot,0)\n",
    "                                                       ,num_outputs=1\n",
    "                                                       ,activation_fn=None\n",
    "                                                       ,weights_initializer=tf.zeros_initializer)\n",
    "            \n",
    "            self.value_estimate=tf.squeeze(self.output_layer)\n",
    "            self.loss=tf.squared_difference(self.value_estimate,self.target)\n",
    "            \n",
    "            self.optimizer=tf.train.AdamOptimizer(learning_rate=learning_rate)\n",
    "            self.train_op=self.optimizer.minimize(self.loss\n",
    "                                                  ,global_step=tf.estimator.framework.get_global_step())\n",
    "            \n",
    "    def predict(self,state,sess=None):\n",
    "        sess=sess or tf.get_default_session()\n",
    "        return sess.run(self.value_estimate,{self.state:state})\n",
    "    \n",
    "    def update(self,state,target,sess=None):\n",
    "        sess=sess or tf.get_default_session()\n",
    "        feed_dict={self.state:state,self.target:target}\n",
    "        _,loss=sess.run([self.train_op,self.loss],feed_dict)\n",
    "        return loss"
   ]
  },
  {
   "cell_type": "code",
   "execution_count": 125,
   "id": "f3810743",
   "metadata": {},
   "outputs": [],
   "source": [
    "def reinforce(env,estimator_policy,estimator_value,num_episodes,discount_factor=1.0):\n",
    "    stats=plotting.EpisodeStats(episode_lengths=np.zeros(num_episodes)\n",
    "                               ,episode_rewards=np.zeros(num_episodes))\n",
    "    \n",
    "    Transition=collections.namedtuple(\"Transition\",[\"state\",\"action\",\"reward\",\"next_state\",\"done\"])\n",
    "    \n",
    "    for i_episode in range(num_episodes):\n",
    "        state=env.reset()\n",
    "        episode=[]\n",
    "        \n",
    "        for t in itertools.count():\n",
    "            action_probs=estimator_policy.predict(state)\n",
    "            action=np.random.choice(np.arange(len(action_probs)),p=action_probs)\n",
    "            next_state,reward,done,_=env.step(action)\n",
    "            \n",
    "            episode.append(Transition(state=state,action=action,reward=reward,next_state=next_state,done=done))\n",
    "            \n",
    "            stats.episode_rewards[i_episode]+=reward\n",
    "            stats.episode_lengths=t\n",
    "            \n",
    "            print(\"\\rstep {} @ Episode {}/{} ({})\".format(t,i_episode+1,num_episodes,stats.episode_rewards[i_episode-1]),end=\"\")\n",
    "            \n",
    "            if done:\n",
    "                break\n",
    "            \n",
    "            state=next_state\n",
    "            \n",
    "            for t,transition in enumerate(episode):\n",
    "                total_return=sum(discount_factor**i*t.reward for i,t in enumerate(episode[t:]))\n",
    "                baseline_value=estimator_value.predict(transition.state)\n",
    "                advantage=total_return-baseline_value\n",
    "                estimator_value.update(transition.state,total_return)\n",
    "                estimator_poilcy.update(transition.state,advantage,transition.action)\n",
    "                \n",
    "    return stats"
   ]
  },
  {
   "cell_type": "code",
   "execution_count": 126,
   "id": "ff9545cb",
   "metadata": {},
   "outputs": [
    {
     "ename": "ValueError",
     "evalue": "The last dimension of the inputs to `Dense` should be defined. Found `None`.",
     "output_type": "error",
     "traceback": [
      "\u001b[1;31m---------------------------------------------------------------------------\u001b[0m",
      "\u001b[1;31mValueError\u001b[0m                                Traceback (most recent call last)",
      "\u001b[1;32m~\\AppData\\Local\\Temp/ipykernel_72296/747713395.py\u001b[0m in \u001b[0;36m<module>\u001b[1;34m\u001b[0m\n\u001b[0;32m      2\u001b[0m \u001b[1;33m\u001b[0m\u001b[0m\n\u001b[0;32m      3\u001b[0m \u001b[0mglobal_step\u001b[0m\u001b[1;33m=\u001b[0m\u001b[0mtf\u001b[0m\u001b[1;33m.\u001b[0m\u001b[0mVariable\u001b[0m\u001b[1;33m(\u001b[0m\u001b[1;36m0\u001b[0m\u001b[1;33m,\u001b[0m\u001b[0mname\u001b[0m\u001b[1;33m=\u001b[0m\u001b[1;34m\"global_step\"\u001b[0m\u001b[1;33m,\u001b[0m\u001b[0mtrainable\u001b[0m\u001b[1;33m=\u001b[0m\u001b[1;32mFalse\u001b[0m\u001b[1;33m)\u001b[0m\u001b[1;33m\u001b[0m\u001b[1;33m\u001b[0m\u001b[0m\n\u001b[1;32m----> 4\u001b[1;33m \u001b[0mpolicy_estimator\u001b[0m\u001b[1;33m=\u001b[0m\u001b[0mPolicyEstimator\u001b[0m\u001b[1;33m(\u001b[0m\u001b[1;33m)\u001b[0m\u001b[1;33m\u001b[0m\u001b[1;33m\u001b[0m\u001b[0m\n\u001b[0m\u001b[0;32m      5\u001b[0m \u001b[0mvalue_estimator\u001b[0m\u001b[1;33m=\u001b[0m\u001b[0mValueEstimator\u001b[0m\u001b[1;33m(\u001b[0m\u001b[1;33m)\u001b[0m\u001b[1;33m\u001b[0m\u001b[1;33m\u001b[0m\u001b[0m\n\u001b[0;32m      6\u001b[0m \u001b[1;33m\u001b[0m\u001b[0m\n",
      "\u001b[1;32m~\\AppData\\Local\\Temp/ipykernel_72296/2984933385.py\u001b[0m in \u001b[0;36m__init__\u001b[1;34m(self, learning_rate, scope)\u001b[0m\n\u001b[0;32m      9\u001b[0m \u001b[1;33m\u001b[0m\u001b[0m\n\u001b[0;32m     10\u001b[0m             \u001b[0mstate_one_hot\u001b[0m\u001b[1;33m=\u001b[0m\u001b[0mtf\u001b[0m\u001b[1;33m.\u001b[0m\u001b[0mone_hot\u001b[0m\u001b[1;33m(\u001b[0m\u001b[0mself\u001b[0m\u001b[1;33m.\u001b[0m\u001b[0mstate\u001b[0m\u001b[1;33m,\u001b[0m\u001b[0mint\u001b[0m\u001b[1;33m(\u001b[0m\u001b[0menv\u001b[0m\u001b[1;33m.\u001b[0m\u001b[0mobservation_space\u001b[0m\u001b[1;33m.\u001b[0m\u001b[0mn\u001b[0m\u001b[1;33m)\u001b[0m\u001b[1;33m)\u001b[0m\u001b[1;33m\u001b[0m\u001b[1;33m\u001b[0m\u001b[0m\n\u001b[1;32m---> 11\u001b[1;33m             self.output_layer=_layers.fully_connected(inputs=tf.expand_dims(state_one_hot,0),\n\u001b[0m\u001b[0;32m     12\u001b[0m                                                                 \u001b[0mnum_outputs\u001b[0m\u001b[1;33m=\u001b[0m\u001b[0menv\u001b[0m\u001b[1;33m.\u001b[0m\u001b[0maction_space\u001b[0m\u001b[1;33m.\u001b[0m\u001b[0mn\u001b[0m\u001b[1;33m,\u001b[0m\u001b[1;33m\u001b[0m\u001b[1;33m\u001b[0m\u001b[0m\n\u001b[0;32m     13\u001b[0m                                                                 \u001b[0mactivation_fn\u001b[0m\u001b[1;33m=\u001b[0m\u001b[1;32mNone\u001b[0m\u001b[1;33m,\u001b[0m\u001b[1;33m\u001b[0m\u001b[1;33m\u001b[0m\u001b[0m\n",
      "\u001b[1;32mE:\\BITS PILANI - PILANI 2021\\BITS PILANI SEM 1\\Anaconda (python)\\lib\\site-packages\\tf_slim\\ops\\arg_scope.py\u001b[0m in \u001b[0;36mfunc_with_args\u001b[1;34m(*args, **kwargs)\u001b[0m\n\u001b[0;32m    182\u001b[0m       \u001b[0mcurrent_args\u001b[0m \u001b[1;33m=\u001b[0m \u001b[0mcurrent_scope\u001b[0m\u001b[1;33m[\u001b[0m\u001b[0mkey_func\u001b[0m\u001b[1;33m]\u001b[0m\u001b[1;33m.\u001b[0m\u001b[0mcopy\u001b[0m\u001b[1;33m(\u001b[0m\u001b[1;33m)\u001b[0m\u001b[1;33m\u001b[0m\u001b[1;33m\u001b[0m\u001b[0m\n\u001b[0;32m    183\u001b[0m       \u001b[0mcurrent_args\u001b[0m\u001b[1;33m.\u001b[0m\u001b[0mupdate\u001b[0m\u001b[1;33m(\u001b[0m\u001b[0mkwargs\u001b[0m\u001b[1;33m)\u001b[0m\u001b[1;33m\u001b[0m\u001b[1;33m\u001b[0m\u001b[0m\n\u001b[1;32m--> 184\u001b[1;33m     \u001b[1;32mreturn\u001b[0m \u001b[0mfunc\u001b[0m\u001b[1;33m(\u001b[0m\u001b[1;33m*\u001b[0m\u001b[0margs\u001b[0m\u001b[1;33m,\u001b[0m \u001b[1;33m**\u001b[0m\u001b[0mcurrent_args\u001b[0m\u001b[1;33m)\u001b[0m\u001b[1;33m\u001b[0m\u001b[1;33m\u001b[0m\u001b[0m\n\u001b[0m\u001b[0;32m    185\u001b[0m \u001b[1;33m\u001b[0m\u001b[0m\n\u001b[0;32m    186\u001b[0m   \u001b[0m_add_op\u001b[0m\u001b[1;33m(\u001b[0m\u001b[0mfunc\u001b[0m\u001b[1;33m)\u001b[0m\u001b[1;33m\u001b[0m\u001b[1;33m\u001b[0m\u001b[0m\n",
      "\u001b[1;32mE:\\BITS PILANI - PILANI 2021\\BITS PILANI SEM 1\\Anaconda (python)\\lib\\site-packages\\tf_slim\\layers\\layers.py\u001b[0m in \u001b[0;36mfully_connected\u001b[1;34m(inputs, num_outputs, activation_fn, normalizer_fn, normalizer_params, weights_initializer, weights_regularizer, biases_initializer, biases_regularizer, reuse, variables_collections, outputs_collections, trainable, scope)\u001b[0m\n\u001b[0;32m   1896\u001b[0m         \u001b[0m_scope\u001b[0m\u001b[1;33m=\u001b[0m\u001b[0msc\u001b[0m\u001b[1;33m,\u001b[0m\u001b[1;33m\u001b[0m\u001b[1;33m\u001b[0m\u001b[0m\n\u001b[0;32m   1897\u001b[0m         _reuse=reuse)\n\u001b[1;32m-> 1898\u001b[1;33m     \u001b[0moutputs\u001b[0m \u001b[1;33m=\u001b[0m \u001b[0mlayer\u001b[0m\u001b[1;33m.\u001b[0m\u001b[0mapply\u001b[0m\u001b[1;33m(\u001b[0m\u001b[0minputs\u001b[0m\u001b[1;33m)\u001b[0m\u001b[1;33m\u001b[0m\u001b[1;33m\u001b[0m\u001b[0m\n\u001b[0m\u001b[0;32m   1899\u001b[0m \u001b[1;33m\u001b[0m\u001b[0m\n\u001b[0;32m   1900\u001b[0m     \u001b[1;31m# Add variables to collections.\u001b[0m\u001b[1;33m\u001b[0m\u001b[1;33m\u001b[0m\u001b[0m\n",
      "\u001b[1;32mE:\\BITS PILANI - PILANI 2021\\BITS PILANI SEM 1\\Anaconda (python)\\lib\\site-packages\\tensorflow\\python\\keras\\engine\\base_layer_v1.py\u001b[0m in \u001b[0;36mapply\u001b[1;34m(self, inputs, *args, **kwargs)\u001b[0m\n\u001b[0;32m   1695\u001b[0m                   \u001b[1;34m'will be removed in a future version. '\u001b[0m\u001b[1;33m\u001b[0m\u001b[1;33m\u001b[0m\u001b[0m\n\u001b[0;32m   1696\u001b[0m                   'Please use `layer.__call__` method instead.')\n\u001b[1;32m-> 1697\u001b[1;33m     \u001b[1;32mreturn\u001b[0m \u001b[0mself\u001b[0m\u001b[1;33m.\u001b[0m\u001b[0m__call__\u001b[0m\u001b[1;33m(\u001b[0m\u001b[0minputs\u001b[0m\u001b[1;33m,\u001b[0m \u001b[1;33m*\u001b[0m\u001b[0margs\u001b[0m\u001b[1;33m,\u001b[0m \u001b[1;33m**\u001b[0m\u001b[0mkwargs\u001b[0m\u001b[1;33m)\u001b[0m\u001b[1;33m\u001b[0m\u001b[1;33m\u001b[0m\u001b[0m\n\u001b[0m\u001b[0;32m   1698\u001b[0m \u001b[1;33m\u001b[0m\u001b[0m\n\u001b[0;32m   1699\u001b[0m   \u001b[1;33m@\u001b[0m\u001b[0mdoc_controls\u001b[0m\u001b[1;33m.\u001b[0m\u001b[0mdo_not_doc_inheritable\u001b[0m\u001b[1;33m\u001b[0m\u001b[1;33m\u001b[0m\u001b[0m\n",
      "\u001b[1;32mE:\\BITS PILANI - PILANI 2021\\BITS PILANI SEM 1\\Anaconda (python)\\lib\\site-packages\\tensorflow\\python\\keras\\legacy_tf_layers\\base.py\u001b[0m in \u001b[0;36m__call__\u001b[1;34m(self, inputs, *args, **kwargs)\u001b[0m\n\u001b[0;32m    566\u001b[0m \u001b[1;33m\u001b[0m\u001b[0m\n\u001b[0;32m    567\u001b[0m       \u001b[1;31m# Actually call layer\u001b[0m\u001b[1;33m\u001b[0m\u001b[1;33m\u001b[0m\u001b[0m\n\u001b[1;32m--> 568\u001b[1;33m       \u001b[0moutputs\u001b[0m \u001b[1;33m=\u001b[0m \u001b[0msuper\u001b[0m\u001b[1;33m(\u001b[0m\u001b[0mLayer\u001b[0m\u001b[1;33m,\u001b[0m \u001b[0mself\u001b[0m\u001b[1;33m)\u001b[0m\u001b[1;33m.\u001b[0m\u001b[0m__call__\u001b[0m\u001b[1;33m(\u001b[0m\u001b[0minputs\u001b[0m\u001b[1;33m,\u001b[0m \u001b[1;33m*\u001b[0m\u001b[0margs\u001b[0m\u001b[1;33m,\u001b[0m \u001b[1;33m**\u001b[0m\u001b[0mkwargs\u001b[0m\u001b[1;33m)\u001b[0m\u001b[1;33m\u001b[0m\u001b[1;33m\u001b[0m\u001b[0m\n\u001b[0m\u001b[0;32m    569\u001b[0m \u001b[1;33m\u001b[0m\u001b[0m\n\u001b[0;32m    570\u001b[0m     \u001b[1;32mif\u001b[0m \u001b[1;32mnot\u001b[0m \u001b[0mcontext\u001b[0m\u001b[1;33m.\u001b[0m\u001b[0mexecuting_eagerly\u001b[0m\u001b[1;33m(\u001b[0m\u001b[1;33m)\u001b[0m\u001b[1;33m:\u001b[0m\u001b[1;33m\u001b[0m\u001b[1;33m\u001b[0m\u001b[0m\n",
      "\u001b[1;32mE:\\BITS PILANI - PILANI 2021\\BITS PILANI SEM 1\\Anaconda (python)\\lib\\site-packages\\tensorflow\\python\\keras\\engine\\base_layer_v1.py\u001b[0m in \u001b[0;36m__call__\u001b[1;34m(self, *args, **kwargs)\u001b[0m\n\u001b[0;32m    762\u001b[0m           \u001b[1;31m# Build layer if applicable (if the `build` method has been\u001b[0m\u001b[1;33m\u001b[0m\u001b[1;33m\u001b[0m\u001b[0m\n\u001b[0;32m    763\u001b[0m           \u001b[1;31m# overridden).\u001b[0m\u001b[1;33m\u001b[0m\u001b[1;33m\u001b[0m\u001b[0m\n\u001b[1;32m--> 764\u001b[1;33m           \u001b[0mself\u001b[0m\u001b[1;33m.\u001b[0m\u001b[0m_maybe_build\u001b[0m\u001b[1;33m(\u001b[0m\u001b[0minputs\u001b[0m\u001b[1;33m)\u001b[0m\u001b[1;33m\u001b[0m\u001b[1;33m\u001b[0m\u001b[0m\n\u001b[0m\u001b[0;32m    765\u001b[0m           \u001b[0mcast_inputs\u001b[0m \u001b[1;33m=\u001b[0m \u001b[0mself\u001b[0m\u001b[1;33m.\u001b[0m\u001b[0m_maybe_cast_inputs\u001b[0m\u001b[1;33m(\u001b[0m\u001b[0minputs\u001b[0m\u001b[1;33m)\u001b[0m\u001b[1;33m\u001b[0m\u001b[1;33m\u001b[0m\u001b[0m\n\u001b[0;32m    766\u001b[0m \u001b[1;33m\u001b[0m\u001b[0m\n",
      "\u001b[1;32mE:\\BITS PILANI - PILANI 2021\\BITS PILANI SEM 1\\Anaconda (python)\\lib\\site-packages\\tensorflow\\python\\keras\\engine\\base_layer_v1.py\u001b[0m in \u001b[0;36m_maybe_build\u001b[1;34m(self, inputs)\u001b[0m\n\u001b[0;32m   2084\u001b[0m         \u001b[1;31m# operations.\u001b[0m\u001b[1;33m\u001b[0m\u001b[1;33m\u001b[0m\u001b[0m\n\u001b[0;32m   2085\u001b[0m         \u001b[1;32mwith\u001b[0m \u001b[0mtf_utils\u001b[0m\u001b[1;33m.\u001b[0m\u001b[0mmaybe_init_scope\u001b[0m\u001b[1;33m(\u001b[0m\u001b[0mself\u001b[0m\u001b[1;33m)\u001b[0m\u001b[1;33m:\u001b[0m\u001b[1;33m\u001b[0m\u001b[1;33m\u001b[0m\u001b[0m\n\u001b[1;32m-> 2086\u001b[1;33m           \u001b[0mself\u001b[0m\u001b[1;33m.\u001b[0m\u001b[0mbuild\u001b[0m\u001b[1;33m(\u001b[0m\u001b[0minput_shapes\u001b[0m\u001b[1;33m)\u001b[0m\u001b[1;33m\u001b[0m\u001b[1;33m\u001b[0m\u001b[0m\n\u001b[0m\u001b[0;32m   2087\u001b[0m       \u001b[1;31m# We must set also ensure that the layer is marked as built, and the build\u001b[0m\u001b[1;33m\u001b[0m\u001b[1;33m\u001b[0m\u001b[0m\n\u001b[0;32m   2088\u001b[0m       \u001b[1;31m# shape is stored since user defined build functions may not be calling\u001b[0m\u001b[1;33m\u001b[0m\u001b[1;33m\u001b[0m\u001b[0m\n",
      "\u001b[1;32mE:\\BITS PILANI - PILANI 2021\\BITS PILANI SEM 1\\Anaconda (python)\\lib\\site-packages\\tensorflow\\python\\keras\\layers\\core.py\u001b[0m in \u001b[0;36mbuild\u001b[1;34m(self, input_shape)\u001b[0m\n\u001b[0;32m   1183\u001b[0m     \u001b[0mlast_dim\u001b[0m \u001b[1;33m=\u001b[0m \u001b[0mtensor_shape\u001b[0m\u001b[1;33m.\u001b[0m\u001b[0mdimension_value\u001b[0m\u001b[1;33m(\u001b[0m\u001b[0minput_shape\u001b[0m\u001b[1;33m[\u001b[0m\u001b[1;33m-\u001b[0m\u001b[1;36m1\u001b[0m\u001b[1;33m]\u001b[0m\u001b[1;33m)\u001b[0m\u001b[1;33m\u001b[0m\u001b[1;33m\u001b[0m\u001b[0m\n\u001b[0;32m   1184\u001b[0m     \u001b[1;32mif\u001b[0m \u001b[0mlast_dim\u001b[0m \u001b[1;32mis\u001b[0m \u001b[1;32mNone\u001b[0m\u001b[1;33m:\u001b[0m\u001b[1;33m\u001b[0m\u001b[1;33m\u001b[0m\u001b[0m\n\u001b[1;32m-> 1185\u001b[1;33m       raise ValueError('The last dimension of the inputs to `Dense` '\n\u001b[0m\u001b[0;32m   1186\u001b[0m                        'should be defined. Found `None`.')\n\u001b[0;32m   1187\u001b[0m     \u001b[0mself\u001b[0m\u001b[1;33m.\u001b[0m\u001b[0minput_spec\u001b[0m \u001b[1;33m=\u001b[0m \u001b[0mInputSpec\u001b[0m\u001b[1;33m(\u001b[0m\u001b[0mmin_ndim\u001b[0m\u001b[1;33m=\u001b[0m\u001b[1;36m2\u001b[0m\u001b[1;33m,\u001b[0m \u001b[0maxes\u001b[0m\u001b[1;33m=\u001b[0m\u001b[1;33m{\u001b[0m\u001b[1;33m-\u001b[0m\u001b[1;36m1\u001b[0m\u001b[1;33m:\u001b[0m \u001b[0mlast_dim\u001b[0m\u001b[1;33m}\u001b[0m\u001b[1;33m)\u001b[0m\u001b[1;33m\u001b[0m\u001b[1;33m\u001b[0m\u001b[0m\n",
      "\u001b[1;31mValueError\u001b[0m: The last dimension of the inputs to `Dense` should be defined. Found `None`."
     ]
    }
   ],
   "source": [
    "tf.reset_default_graph()\n",
    "\n",
    "global_step=tf.Variable(0,name=\"global_step\",trainable=False)\n",
    "policy_estimator=PolicyEstimator()\n",
    "value_estimator=ValueEstimator()\n",
    "\n",
    "with tf.session() as sess:\n",
    "    sess.run(tf.initialize_all_variables())\n",
    "    stats=reinforce(env,policy_estimator,value_estimator,2000,discount_factor=1.0)"
   ]
  },
  {
   "cell_type": "code",
   "execution_count": null,
   "id": "034b625a",
   "metadata": {},
   "outputs": [],
   "source": [
    "plotting.plot_episode_stats(stats,smoothing_window=25)"
   ]
  }
 ],
 "metadata": {
  "kernelspec": {
   "display_name": "Python 3 (ipykernel)",
   "language": "python",
   "name": "python3"
  },
  "language_info": {
   "codemirror_mode": {
    "name": "ipython",
    "version": 3
   },
   "file_extension": ".py",
   "mimetype": "text/x-python",
   "name": "python",
   "nbconvert_exporter": "python",
   "pygments_lexer": "ipython3",
   "version": "3.9.7"
  }
 },
 "nbformat": 4,
 "nbformat_minor": 5
}
