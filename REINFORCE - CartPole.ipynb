{
 "cells": [
  {
   "cell_type": "code",
   "execution_count": 9,
   "id": "2b6b6407",
   "metadata": {},
   "outputs": [],
   "source": [
    "import sys\n",
    "import os\n",
    "\n",
    "if 'google.colab' in sys.modules and not os.path.exists('.setup_complete'):\n",
    "    !wget -q https://raw.githubusercontent.com/yandexdataschool/Practical_RL/master/setup_colab.sh -O- | bash\n",
    "    !pip install -q gymnasium\n",
    "    !pip install moviepy\n",
    "    !apt install ffmpeg\n",
    "    !pip install imageio[ffmpeg]\n",
    "    !touch .setup_complete\n",
    "\n",
    "# Note: You may not need to set up xvfb in Colab, as it typically handles displays well.\n",
    "\n",
    "# If you face rendering issues with Gym, consider using the NoopResetEnv wrapper.\n",
    "# Example:\n",
    "# from gym.wrappers import NoopResetEnv\n",
    "# env = NoopResetEnv(gym.make('YourEnvironmentName'))\n",
    "\n",
    "# Now, you can proceed with your reinforcement learning experiments.\n"
   ]
  },
  {
   "cell_type": "code",
   "execution_count": 3,
   "id": "97e5a4a6",
   "metadata": {},
   "outputs": [
    {
     "name": "stdout",
     "output_type": "stream",
     "text": [
      "Collecting gymnasium\n",
      "  Downloading gymnasium-0.29.1-py3-none-any.whl (953 kB)\n",
      "Requirement already satisfied: cloudpickle>=1.2.0 in e:\\bits pilani - pilani 2021\\bits pilani sem 1\\anaconda (python)\\lib\\site-packages (from gymnasium) (2.0.0)\n",
      "Requirement already satisfied: numpy>=1.21.0 in e:\\bits pilani - pilani 2021\\bits pilani sem 1\\anaconda (python)\\lib\\site-packages (from gymnasium) (1.22.4)\n",
      "Requirement already satisfied: importlib-metadata>=4.8.0 in e:\\bits pilani - pilani 2021\\bits pilani sem 1\\anaconda (python)\\lib\\site-packages (from gymnasium) (4.8.1)\n",
      "Collecting typing-extensions>=4.3.0\n",
      "  Downloading typing_extensions-4.7.1-py3-none-any.whl (33 kB)\n",
      "Collecting farama-notifications>=0.0.1\n",
      "  Downloading Farama_Notifications-0.0.4-py3-none-any.whl (2.5 kB)\n",
      "Requirement already satisfied: zipp>=0.5 in e:\\bits pilani - pilani 2021\\bits pilani sem 1\\anaconda (python)\\lib\\site-packages (from importlib-metadata>=4.8.0->gymnasium) (3.6.0)Note: you may need to restart the kernel to use updated packages.\n",
      "\n",
      "Installing collected packages: typing-extensions, farama-notifications, gymnasium\n",
      "  Attempting uninstall: typing-extensions\n",
      "    Found existing installation: typing-extensions 3.10.0.2\n",
      "    Uninstalling typing-extensions-3.10.0.2:\n",
      "      Successfully uninstalled typing-extensions-3.10.0.2\n",
      "Successfully installed farama-notifications-0.0.4 gymnasium-0.29.1 typing-extensions-4.7.1\n"
     ]
    }
   ],
   "source": [
    "pip install gymnasium"
   ]
  },
  {
   "cell_type": "code",
   "execution_count": 10,
   "id": "1ca05615",
   "metadata": {},
   "outputs": [],
   "source": [
    "import gymnasium as gym\n",
    "import numpy as np\n",
    "import matplotlib.pyplot as plt\n",
    "%matplotlib inline"
   ]
  },
  {
   "cell_type": "code",
   "execution_count": 18,
   "id": "1a886988",
   "metadata": {
    "scrolled": true
   },
   "outputs": [],
   "source": [
    "env=gym.make(\"CartPole-v1\",render_mode=\"human\")\n",
    "\n",
    "if hasattr(env,'_max_episode_steps'):\n",
    "    env=env.env\n",
    "    \n",
    "observation,info = env.reset()\n",
    "for i in range(1000):\n",
    "    action=env.action_space.sample()\n",
    "    observation,reward,terminated,truncated,info=env.step(action)\n",
    "    \n",
    "    if terminated or truncated:\n",
    "        observation,info=env.reset()\n",
    "        \n",
    "env.close()\n",
    "\n",
    "# plt.imshow(env.render())"
   ]
  },
  {
   "cell_type": "code",
   "execution_count": 20,
   "id": "d973eb14",
   "metadata": {},
   "outputs": [
    {
     "data": {
      "text/plain": [
       "<matplotlib.image.AxesImage at 0x13c98910550>"
      ]
     },
     "execution_count": 20,
     "metadata": {},
     "output_type": "execute_result"
    },
    {
     "data": {
      "image/png": "[encoded data removed]",
      "text/plain": [
       "<Figure size 432x288 with 1 Axes>"
      ]
     },
     "metadata": {
      "needs_background": "light"
     },
     "output_type": "display_data"
    }
   ],
   "source": [
    "env = gym.make(\"CartPole-v1\", render_mode=\"rgb_array\")\n",
    "\n",
    "# gym compatibility: unwrap TimeLimit\n",
    "if hasattr(env, '_max_episode_steps'):\n",
    "    env = env.env\n",
    "\n",
    "env.reset()\n",
    "n_actions = env.action_space.n\n",
    "state_dim = env.observation_space.shape\n",
    "\n",
    "plt.imshow(env.render())"
   ]
  },
  {
   "cell_type": "code",
   "execution_count": 21,
   "id": "b69157eb",
   "metadata": {},
   "outputs": [],
   "source": [
    "import torch\n",
    "import torch.nn as nn\n",
    "import torch.nn.functional as F"
   ]
  },
  {
   "cell_type": "code",
   "execution_count": null,
   "id": "f413e68e",
   "metadata": {},
   "outputs": [],
   "source": [
    "model=nn.sequential(nn.Conv2d(1,20,5),\n",
    "                   nn.ReLU(),\n",
    "                   nn.Conv2d(20,64,5),\n",
    "                   nn.ReLU())"
   ]
  },
  {
   "cell_type": "code",
   "execution_count": null,
   "id": "c09795e8",
   "metadata": {},
   "outputs": [],
   "source": []
  },
  {
   "cell_type": "code",
   "execution_count": null,
   "id": "0b94ec3c",
   "metadata": {},
   "outputs": [],
   "source": [
    "def generate_session(env,t_max=1000):\n",
    "    states,action,rewards=[],[],[]\n",
    "    \n",
    "    s=env.reset()[0]\n",
    "    for t in range(t_max):\n",
    "        action_probs=predict_probs(np.array([s]))[0]\n",
    "        action = np.random.choice(len(action_probs), p=np.squeeze(action_probs))\n",
    "        new_state,reward,terminated,truncated,info=env.step(action)\n",
    "        states.append(s)\n",
    "        actions.append(action)\n",
    "        rewards.append(reward)\n",
    "        \n",
    "        s=new_state\n",
    "        if terminated or truncated:\n",
    "            break\n",
    "        \n",
    "        return states,actions,rewards"
   ]
  },
  {
   "cell_type": "code",
   "execution_count": null,
   "id": "1684fb24",
   "metadata": {},
   "outputs": [],
   "source": [
    "states,actions,rewards=generate_session(env)"
   ]
  }
 ],
 "metadata": {
  "kernelspec": {
   "display_name": "Python 3 (ipykernel)",
   "language": "python",
   "name": "python3"
  },
  "language_info": {
   "codemirror_mode": {
    "name": "ipython",
    "version": 3
   },
   "file_extension": ".py",
   "mimetype": "text/x-python",
   "name": "python",
   "nbconvert_exporter": "python",
   "pygments_lexer": "ipython3",
   "version": "3.9.7"
  }
 },
 "nbformat": 4,
 "nbformat_minor": 5
}
